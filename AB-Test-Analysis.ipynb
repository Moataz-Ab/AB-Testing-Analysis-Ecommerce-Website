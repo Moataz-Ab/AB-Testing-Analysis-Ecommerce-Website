{
 "cells": [
  {
   "cell_type": "markdown",
   "id": "5aef576a",
   "metadata": {},
   "source": [
    "# Analysis of A/B test results for e-commerce website"
   ]
  },
  {
   "cell_type": "markdown",
   "id": "24fc889f",
   "metadata": {},
   "source": [
    "## Objective"
   ]
  },
  {
   "cell_type": "markdown",
   "id": "36f55da2",
   "metadata": {},
   "source": [
    "This work is an analysis of A/B test results provided provided from an e-commerce website to test the user response to a new webpage design.\n",
    "\n",
    "The analysis aims to provide insights that help the decision makers in deciding whether to:\n",
    "- Implement the new webpage,\n",
    "- Keep the old webpage, or\n",
    "- Expand the scope of the A/B testing"
   ]
  },
  {
   "cell_type": "markdown",
   "id": "18c35acb",
   "metadata": {},
   "source": [
    "## The A/B Test Dataset"
   ]
  },
  {
   "cell_type": "markdown",
   "id": "4afcfdc7",
   "metadata": {},
   "source": [
    "Below is a description of each column in the dataset"
   ]
  },
  {
   "cell_type": "markdown",
   "id": "ce15e6b9",
   "metadata": {},
   "source": [
    "<center>\n",
    "\n",
    "|Columns|Purpose|Valid values|\n",
    "| ------------- |:-------------| -----:|\n",
    "|user_id|Unique ID|Int64 values|\n",
    "|timestamp|Time stamp when the user visited the webpage|-|\n",
    "|group|In the current A/B experiment, the users are categorized into two broad groups. <br>The control group users are expected to be served with old_page; <br>Treatment group users are matched with the new_page. <br>However, **some inaccurate rows** are present in the initial data, such as a control group user is matched with a new_page. |`['control', 'treatment']`|\n",
    "|landing_page|It denotes whether the user visited the old or new webpage.|`['old_page', 'new_page']`|\n",
    "|converted|It denotes whether the user decided to pay for the company's product. Here, 1 means yes, the user bought the product.|`[0, 1]`|\n",
    "</center>"
   ]
  },
  {
   "cell_type": "markdown",
   "id": "eec2e483",
   "metadata": {},
   "source": [
    "## Part I - EDA and Data Cleaning"
   ]
  },
  {
   "cell_type": "code",
   "execution_count": 1,
   "id": "126592e1",
   "metadata": {},
   "outputs": [
    {
     "name": "stderr",
     "output_type": "stream",
     "text": [
      "/home/moelinux/.pyenv/versions/3.10.6/envs/lewagon/lib/python3.10/site-packages/scipy/__init__.py:146: UserWarning: A NumPy version >=1.17.3 and <1.25.0 is required for this version of SciPy (detected version 1.26.1\n",
      "  warnings.warn(f\"A NumPy version >={np_minversion} and <{np_maxversion}\"\n"
     ]
    }
   ],
   "source": [
    "#imports\n",
    "\n",
    "import pandas as pd\n",
    "import numpy as np\n",
    "import random\n",
    "import matplotlib.pyplot as plt\n",
    "import seaborn as sns\n",
    "%matplotlib inline"
   ]
  },
  {
   "cell_type": "code",
   "execution_count": 2,
   "id": "6840a2bd",
   "metadata": {},
   "outputs": [
    {
     "data": {
      "text/html": [
       "<div>\n",
       "<style scoped>\n",
       "    .dataframe tbody tr th:only-of-type {\n",
       "        vertical-align: middle;\n",
       "    }\n",
       "\n",
       "    .dataframe tbody tr th {\n",
       "        vertical-align: top;\n",
       "    }\n",
       "\n",
       "    .dataframe thead th {\n",
       "        text-align: right;\n",
       "    }\n",
       "</style>\n",
       "<table border=\"1\" class=\"dataframe\">\n",
       "  <thead>\n",
       "    <tr style=\"text-align: right;\">\n",
       "      <th></th>\n",
       "      <th>user_id</th>\n",
       "      <th>timestamp</th>\n",
       "      <th>group</th>\n",
       "      <th>landing_page</th>\n",
       "      <th>converted</th>\n",
       "    </tr>\n",
       "  </thead>\n",
       "  <tbody>\n",
       "    <tr>\n",
       "      <th>0</th>\n",
       "      <td>851104</td>\n",
       "      <td>2017-01-21 22:11:48.556739</td>\n",
       "      <td>control</td>\n",
       "      <td>old_page</td>\n",
       "      <td>0</td>\n",
       "    </tr>\n",
       "    <tr>\n",
       "      <th>1</th>\n",
       "      <td>804228</td>\n",
       "      <td>2017-01-12 08:01:45.159739</td>\n",
       "      <td>control</td>\n",
       "      <td>old_page</td>\n",
       "      <td>0</td>\n",
       "    </tr>\n",
       "    <tr>\n",
       "      <th>2</th>\n",
       "      <td>661590</td>\n",
       "      <td>2017-01-11 16:55:06.154213</td>\n",
       "      <td>treatment</td>\n",
       "      <td>new_page</td>\n",
       "      <td>0</td>\n",
       "    </tr>\n",
       "    <tr>\n",
       "      <th>3</th>\n",
       "      <td>853541</td>\n",
       "      <td>2017-01-08 18:28:03.143765</td>\n",
       "      <td>treatment</td>\n",
       "      <td>new_page</td>\n",
       "      <td>0</td>\n",
       "    </tr>\n",
       "    <tr>\n",
       "      <th>4</th>\n",
       "      <td>864975</td>\n",
       "      <td>2017-01-21 01:52:26.210827</td>\n",
       "      <td>control</td>\n",
       "      <td>old_page</td>\n",
       "      <td>1</td>\n",
       "    </tr>\n",
       "  </tbody>\n",
       "</table>\n",
       "</div>"
      ],
      "text/plain": [
       "   user_id                   timestamp      group landing_page  converted\n",
       "0   851104  2017-01-21 22:11:48.556739    control     old_page          0\n",
       "1   804228  2017-01-12 08:01:45.159739    control     old_page          0\n",
       "2   661590  2017-01-11 16:55:06.154213  treatment     new_page          0\n",
       "3   853541  2017-01-08 18:28:03.143765  treatment     new_page          0\n",
       "4   864975  2017-01-21 01:52:26.210827    control     old_page          1"
      ]
     },
     "execution_count": 2,
     "metadata": {},
     "output_type": "execute_result"
    }
   ],
   "source": [
    "df = pd.read_csv('AB-testing-dataset/ab_data.csv')\n",
    "df.head()"
   ]
  },
  {
   "cell_type": "code",
   "execution_count": 3,
   "id": "8b9248d4",
   "metadata": {},
   "outputs": [
    {
     "name": "stdout",
     "output_type": "stream",
     "text": [
      "<class 'pandas.core.frame.DataFrame'>\n",
      "RangeIndex: 294478 entries, 0 to 294477\n",
      "Data columns (total 5 columns):\n",
      " #   Column        Non-Null Count   Dtype \n",
      "---  ------        --------------   ----- \n",
      " 0   user_id       294478 non-null  int64 \n",
      " 1   timestamp     294478 non-null  object\n",
      " 2   group         294478 non-null  object\n",
      " 3   landing_page  294478 non-null  object\n",
      " 4   converted     294478 non-null  int64 \n",
      "dtypes: int64(2), object(3)\n",
      "memory usage: 11.2+ MB\n"
     ]
    }
   ],
   "source": [
    "df.info()"
   ]
  },
  {
   "cell_type": "code",
   "execution_count": 4,
   "id": "641323e4",
   "metadata": {},
   "outputs": [
    {
     "name": "stdout",
     "output_type": "stream",
     "text": [
      "<class 'pandas.core.frame.DataFrame'>\n",
      "RangeIndex: 294478 entries, 0 to 294477\n",
      "Data columns (total 5 columns):\n",
      " #   Column        Non-Null Count   Dtype \n",
      "---  ------        --------------   ----- \n",
      " 0   user_id       294478 non-null  int64 \n",
      " 1   timestamp     294478 non-null  object\n",
      " 2   group         294478 non-null  object\n",
      " 3   landing_page  294478 non-null  object\n",
      " 4   converted     294478 non-null  int64 \n",
      "dtypes: int64(2), object(3)\n",
      "memory usage: 11.2+ MB\n"
     ]
    }
   ],
   "source": [
    "df.info()"
   ]
  },
  {
   "cell_type": "markdown",
   "id": "2ac4dfcb",
   "metadata": {},
   "source": [
    "**Number of unique users:**"
   ]
  },
  {
   "cell_type": "code",
   "execution_count": 5,
   "id": "c8df31bd",
   "metadata": {},
   "outputs": [
    {
     "data": {
      "text/plain": [
       "290584"
      ]
     },
     "execution_count": 5,
     "metadata": {},
     "output_type": "execute_result"
    }
   ],
   "source": [
    "df['user_id'].nunique()"
   ]
  },
  {
   "cell_type": "markdown",
   "id": "a989bd35",
   "metadata": {},
   "source": [
    "**Missing values**"
   ]
  },
  {
   "cell_type": "code",
   "execution_count": 6,
   "id": "38c5b009",
   "metadata": {},
   "outputs": [
    {
     "data": {
      "text/plain": [
       "user_id         0\n",
       "timestamp       0\n",
       "group           0\n",
       "landing_page    0\n",
       "converted       0\n",
       "dtype: int64"
      ]
     },
     "execution_count": 6,
     "metadata": {},
     "output_type": "execute_result"
    }
   ],
   "source": [
    "df.isnull().sum()"
   ]
  },
  {
   "cell_type": "markdown",
   "id": "6b7e4efb",
   "metadata": {},
   "source": [
    "**Bad Data:**\n",
    "- Number of times when the group is treatment but landing_page is not the new_page\n",
    "- Number of times when the group is control but landing_page is the new_page"
   ]
  },
  {
   "cell_type": "code",
   "execution_count": 7,
   "id": "41acdb7a",
   "metadata": {},
   "outputs": [
    {
     "data": {
      "text/plain": [
       "1965"
      ]
     },
     "execution_count": 7,
     "metadata": {},
     "output_type": "execute_result"
    }
   ],
   "source": [
    "false1= df.query(\"group=='treatment' and landing_page !='new_page'\")\n",
    "len(false1)"
   ]
  },
  {
   "cell_type": "code",
   "execution_count": 8,
   "id": "e1965ab2",
   "metadata": {},
   "outputs": [
    {
     "data": {
      "text/plain": [
       "1928"
      ]
     },
     "execution_count": 8,
     "metadata": {},
     "output_type": "execute_result"
    }
   ],
   "source": [
    "false2= df.query(\"group=='control' and landing_page !='old_page'\")\n",
    "len(false2)"
   ]
  },
  {
   "cell_type": "code",
   "execution_count": 9,
   "id": "7228b447",
   "metadata": {},
   "outputs": [
    {
     "data": {
      "text/plain": [
       "3893"
      ]
     },
     "execution_count": 9,
     "metadata": {},
     "output_type": "execute_result"
    }
   ],
   "source": [
    "len(false1) + len(false2)"
   ]
  },
  {
   "cell_type": "markdown",
   "id": "24754236",
   "metadata": {},
   "source": [
    "**Removing bad data**"
   ]
  },
  {
   "cell_type": "code",
   "execution_count": 10,
   "id": "0a627b02",
   "metadata": {},
   "outputs": [
    {
     "data": {
      "text/plain": [
       "Int64Index([    22,    240,    308,    327,    357,    490,    685,    713,\n",
       "               776,    846,\n",
       "            ...\n",
       "            293817, 293888, 293894, 293917, 293996, 294014, 294200, 294252,\n",
       "            294253, 294331],\n",
       "           dtype='int64', length=3893)"
      ]
     },
     "execution_count": 10,
     "metadata": {},
     "output_type": "execute_result"
    }
   ],
   "source": [
    "total_index=false1.index.union(false2.index)\n",
    "total_index"
   ]
  },
  {
   "cell_type": "code",
   "execution_count": 11,
   "id": "63a4106f",
   "metadata": {},
   "outputs": [],
   "source": [
    "df2= df.drop(total_index)"
   ]
  },
  {
   "cell_type": "markdown",
   "id": "5547bd08",
   "metadata": {},
   "source": [
    "**Sanity check on bad data removal**"
   ]
  },
  {
   "cell_type": "code",
   "execution_count": 12,
   "id": "90365bad",
   "metadata": {},
   "outputs": [
    {
     "data": {
      "text/plain": [
       "0"
      ]
     },
     "execution_count": 12,
     "metadata": {},
     "output_type": "execute_result"
    }
   ],
   "source": [
    "df2[((df2['group'] == 'treatment') == (df2['landing_page'] == 'new_page')) == False].shape[0]"
   ]
  },
  {
   "cell_type": "code",
   "execution_count": 13,
   "id": "0b77b099",
   "metadata": {},
   "outputs": [
    {
     "data": {
      "text/plain": [
       "290585"
      ]
     },
     "execution_count": 13,
     "metadata": {},
     "output_type": "execute_result"
    }
   ],
   "source": [
    "len(df2)"
   ]
  },
  {
   "cell_type": "markdown",
   "id": "8a86a00c",
   "metadata": {},
   "source": [
    "**Removing duplicates**"
   ]
  },
  {
   "cell_type": "code",
   "execution_count": 14,
   "id": "ec61c14e",
   "metadata": {},
   "outputs": [
    {
     "data": {
      "text/plain": [
       "290584"
      ]
     },
     "execution_count": 14,
     "metadata": {},
     "output_type": "execute_result"
    }
   ],
   "source": [
    "df2['user_id'].nunique()"
   ]
  },
  {
   "cell_type": "code",
   "execution_count": 15,
   "id": "bf8da60d",
   "metadata": {},
   "outputs": [
    {
     "data": {
      "text/plain": [
       "1"
      ]
     },
     "execution_count": 15,
     "metadata": {},
     "output_type": "execute_result"
    }
   ],
   "source": [
    "df2['user_id'].duplicated().sum()"
   ]
  },
  {
   "cell_type": "code",
   "execution_count": 16,
   "id": "bfe755b7",
   "metadata": {},
   "outputs": [
    {
     "data": {
      "text/plain": [
       "2893    773192\n",
       "Name: user_id, dtype: int64"
      ]
     },
     "execution_count": 16,
     "metadata": {},
     "output_type": "execute_result"
    }
   ],
   "source": [
    "df2[df2['user_id'].duplicated()].user_id"
   ]
  },
  {
   "cell_type": "code",
   "execution_count": 17,
   "id": "946f2b07",
   "metadata": {},
   "outputs": [
    {
     "data": {
      "text/html": [
       "<div>\n",
       "<style scoped>\n",
       "    .dataframe tbody tr th:only-of-type {\n",
       "        vertical-align: middle;\n",
       "    }\n",
       "\n",
       "    .dataframe tbody tr th {\n",
       "        vertical-align: top;\n",
       "    }\n",
       "\n",
       "    .dataframe thead th {\n",
       "        text-align: right;\n",
       "    }\n",
       "</style>\n",
       "<table border=\"1\" class=\"dataframe\">\n",
       "  <thead>\n",
       "    <tr style=\"text-align: right;\">\n",
       "      <th></th>\n",
       "      <th>user_id</th>\n",
       "      <th>timestamp</th>\n",
       "      <th>group</th>\n",
       "      <th>landing_page</th>\n",
       "      <th>converted</th>\n",
       "    </tr>\n",
       "  </thead>\n",
       "  <tbody>\n",
       "    <tr>\n",
       "      <th>2893</th>\n",
       "      <td>773192</td>\n",
       "      <td>2017-01-14 02:55:59.590927</td>\n",
       "      <td>treatment</td>\n",
       "      <td>new_page</td>\n",
       "      <td>0</td>\n",
       "    </tr>\n",
       "  </tbody>\n",
       "</table>\n",
       "</div>"
      ],
      "text/plain": [
       "      user_id                   timestamp      group landing_page  converted\n",
       "2893   773192  2017-01-14 02:55:59.590927  treatment     new_page          0"
      ]
     },
     "execution_count": 17,
     "metadata": {},
     "output_type": "execute_result"
    }
   ],
   "source": [
    "df2[df2['user_id'].duplicated()]"
   ]
  },
  {
   "cell_type": "code",
   "execution_count": 18,
   "id": "bcdf36b3",
   "metadata": {},
   "outputs": [],
   "source": [
    "df2= df2.drop_duplicates(subset=\"user_id\")"
   ]
  },
  {
   "cell_type": "code",
   "execution_count": 19,
   "id": "a501500a",
   "metadata": {},
   "outputs": [
    {
     "data": {
      "text/html": [
       "<div>\n",
       "<style scoped>\n",
       "    .dataframe tbody tr th:only-of-type {\n",
       "        vertical-align: middle;\n",
       "    }\n",
       "\n",
       "    .dataframe tbody tr th {\n",
       "        vertical-align: top;\n",
       "    }\n",
       "\n",
       "    .dataframe thead th {\n",
       "        text-align: right;\n",
       "    }\n",
       "</style>\n",
       "<table border=\"1\" class=\"dataframe\">\n",
       "  <thead>\n",
       "    <tr style=\"text-align: right;\">\n",
       "      <th></th>\n",
       "      <th>user_id</th>\n",
       "      <th>timestamp</th>\n",
       "      <th>group</th>\n",
       "      <th>landing_page</th>\n",
       "      <th>converted</th>\n",
       "    </tr>\n",
       "  </thead>\n",
       "  <tbody>\n",
       "  </tbody>\n",
       "</table>\n",
       "</div>"
      ],
      "text/plain": [
       "Empty DataFrame\n",
       "Columns: [user_id, timestamp, group, landing_page, converted]\n",
       "Index: []"
      ]
     },
     "execution_count": 19,
     "metadata": {},
     "output_type": "execute_result"
    }
   ],
   "source": [
    "df2[df2['user_id'].duplicated()]"
   ]
  },
  {
   "cell_type": "markdown",
   "id": "42936298",
   "metadata": {},
   "source": [
    "**Resetting the data frame index**"
   ]
  },
  {
   "cell_type": "code",
   "execution_count": 20,
   "id": "52fa7496",
   "metadata": {},
   "outputs": [],
   "source": [
    "df2= df2.reset_index(drop= True)"
   ]
  },
  {
   "cell_type": "code",
   "execution_count": 21,
   "id": "b999154c",
   "metadata": {},
   "outputs": [
    {
     "data": {
      "text/html": [
       "<div>\n",
       "<style scoped>\n",
       "    .dataframe tbody tr th:only-of-type {\n",
       "        vertical-align: middle;\n",
       "    }\n",
       "\n",
       "    .dataframe tbody tr th {\n",
       "        vertical-align: top;\n",
       "    }\n",
       "\n",
       "    .dataframe thead th {\n",
       "        text-align: right;\n",
       "    }\n",
       "</style>\n",
       "<table border=\"1\" class=\"dataframe\">\n",
       "  <thead>\n",
       "    <tr style=\"text-align: right;\">\n",
       "      <th></th>\n",
       "      <th>user_id</th>\n",
       "      <th>timestamp</th>\n",
       "      <th>group</th>\n",
       "      <th>landing_page</th>\n",
       "      <th>converted</th>\n",
       "    </tr>\n",
       "  </thead>\n",
       "  <tbody>\n",
       "    <tr>\n",
       "      <th>0</th>\n",
       "      <td>851104</td>\n",
       "      <td>2017-01-21 22:11:48.556739</td>\n",
       "      <td>control</td>\n",
       "      <td>old_page</td>\n",
       "      <td>0</td>\n",
       "    </tr>\n",
       "    <tr>\n",
       "      <th>1</th>\n",
       "      <td>804228</td>\n",
       "      <td>2017-01-12 08:01:45.159739</td>\n",
       "      <td>control</td>\n",
       "      <td>old_page</td>\n",
       "      <td>0</td>\n",
       "    </tr>\n",
       "    <tr>\n",
       "      <th>2</th>\n",
       "      <td>661590</td>\n",
       "      <td>2017-01-11 16:55:06.154213</td>\n",
       "      <td>treatment</td>\n",
       "      <td>new_page</td>\n",
       "      <td>0</td>\n",
       "    </tr>\n",
       "    <tr>\n",
       "      <th>3</th>\n",
       "      <td>853541</td>\n",
       "      <td>2017-01-08 18:28:03.143765</td>\n",
       "      <td>treatment</td>\n",
       "      <td>new_page</td>\n",
       "      <td>0</td>\n",
       "    </tr>\n",
       "    <tr>\n",
       "      <th>4</th>\n",
       "      <td>864975</td>\n",
       "      <td>2017-01-21 01:52:26.210827</td>\n",
       "      <td>control</td>\n",
       "      <td>old_page</td>\n",
       "      <td>1</td>\n",
       "    </tr>\n",
       "  </tbody>\n",
       "</table>\n",
       "</div>"
      ],
      "text/plain": [
       "   user_id                   timestamp      group landing_page  converted\n",
       "0   851104  2017-01-21 22:11:48.556739    control     old_page          0\n",
       "1   804228  2017-01-12 08:01:45.159739    control     old_page          0\n",
       "2   661590  2017-01-11 16:55:06.154213  treatment     new_page          0\n",
       "3   853541  2017-01-08 18:28:03.143765  treatment     new_page          0\n",
       "4   864975  2017-01-21 01:52:26.210827    control     old_page          1"
      ]
     },
     "execution_count": 21,
     "metadata": {},
     "output_type": "execute_result"
    }
   ],
   "source": [
    "df2.head()"
   ]
  },
  {
   "cell_type": "markdown",
   "id": "617fae8c",
   "metadata": {},
   "source": [
    "---"
   ]
  },
  {
   "cell_type": "markdown",
   "id": "a9a407ef",
   "metadata": {},
   "source": [
    "## Part II - Probability Analysis"
   ]
  },
  {
   "cell_type": "markdown",
   "id": "9603180c",
   "metadata": {},
   "source": [
    "**Probability of an individual converting regardless of the page they receive**"
   ]
  },
  {
   "cell_type": "code",
   "execution_count": 22,
   "id": "3c8df776",
   "metadata": {},
   "outputs": [
    {
     "data": {
      "text/plain": [
       "0.11959708724499628"
      ]
     },
     "execution_count": 22,
     "metadata": {},
     "output_type": "execute_result"
    }
   ],
   "source": [
    "p_converted = df2['converted'].mean()\n",
    "p_converted"
   ]
  },
  {
   "cell_type": "markdown",
   "id": "e6d72a45",
   "metadata": {},
   "source": [
    "**Convertion probability | Given that an individual was in the control group**"
   ]
  },
  {
   "cell_type": "code",
   "execution_count": 23,
   "id": "577a0850",
   "metadata": {},
   "outputs": [
    {
     "data": {
      "text/plain": [
       "0.1203863045004612"
      ]
     },
     "execution_count": 23,
     "metadata": {},
     "output_type": "execute_result"
    }
   ],
   "source": [
    "control_P_population = df2.query(\"group == 'control'\")['converted'].mean()\n",
    "control_P_population"
   ]
  },
  {
   "cell_type": "markdown",
   "id": "d199c2ae",
   "metadata": {},
   "source": [
    "**Convertion probability | Given that an individual was in the treatment group**"
   ]
  },
  {
   "cell_type": "code",
   "execution_count": 24,
   "id": "5dc712f0",
   "metadata": {},
   "outputs": [
    {
     "data": {
      "text/plain": [
       "0.11880806551510564"
      ]
     },
     "execution_count": 24,
     "metadata": {},
     "output_type": "execute_result"
    }
   ],
   "source": [
    "treatment_P_population = df2.query(\"group == 'treatment'\")['converted'].mean()\n",
    "treatment_P_population"
   ]
  },
  {
   "cell_type": "markdown",
   "id": "f9e73ba8",
   "metadata": {},
   "source": [
    "**Observed difference between the conversion rates for the two groups**"
   ]
  },
  {
   "cell_type": "code",
   "execution_count": 25,
   "id": "0e006774",
   "metadata": {},
   "outputs": [
    {
     "data": {
      "text/plain": [
       "-0.0015782389853555567"
      ]
     },
     "execution_count": 25,
     "metadata": {},
     "output_type": "execute_result"
    }
   ],
   "source": [
    "observed_diff= treatment_P_population - control_P_population\n",
    "observed_diff"
   ]
  },
  {
   "cell_type": "markdown",
   "id": "ddd0434c",
   "metadata": {},
   "source": [
    "**Visualizing conversion rate probability**"
   ]
  },
  {
   "cell_type": "code",
   "execution_count": 26,
   "id": "ec613adf",
   "metadata": {},
   "outputs": [
    {
     "data": {
      "image/png": "[encoded data removed]",
      "text/plain": [
       "<Figure size 700x600 with 1 Axes>"
      ]
     },
     "metadata": {},
     "output_type": "display_data"
    }
   ],
   "source": [
    "X = ['Control', 'Treatment']\n",
    "Y = [control_P_population, treatment_P_population]\n",
    "plt.figure(figsize=(7,6))\n",
    "plt.bar(X, Y, edgecolor=[\"black\", \"black\"] , color=['royalblue', 'darkorange'])\n",
    "for i, g in enumerate(Y):\n",
    "    plt.text(i, g - 0.01, \"{0:.{digits}f}\".format(g, digits=4), fontsize=16, fontweight=\"light\", ha=\"center\")\n",
    "\n",
    "plt.title(\"Conversion Rate\", fontsize=15, fontweight=\"light\" )\n",
    "plt.ylim(0.10,0.122)\n",
    "plt.xticks(fontsize=14, fontweight=\"light\")\n",
    "plt.yticks([])\n",
    "sns.despine(left=True);"
   ]
  },
  {
   "cell_type": "markdown",
   "id": "85169f03",
   "metadata": {},
   "source": [
    "**Probability of an individual receiving the new page**"
   ]
  },
  {
   "cell_type": "code",
   "execution_count": 27,
   "id": "c7408e84",
   "metadata": {},
   "outputs": [
    {
     "data": {
      "text/plain": [
       "0.5000619442226688"
      ]
     },
     "execution_count": 27,
     "metadata": {},
     "output_type": "execute_result"
    }
   ],
   "source": [
    "p_new_page= len(df2.query(\"landing_page == 'new_page'\"))/len(df2)\n",
    "p_new_page"
   ]
  },
  {
   "cell_type": "markdown",
   "id": "45d1d764",
   "metadata": {},
   "source": [
    "**Probability of an individual receiving the old page**"
   ]
  },
  {
   "cell_type": "code",
   "execution_count": 28,
   "id": "6e3abdb2",
   "metadata": {},
   "outputs": [
    {
     "data": {
      "text/plain": [
       "0.4999380557773312"
      ]
     },
     "execution_count": 28,
     "metadata": {},
     "output_type": "execute_result"
    }
   ],
   "source": [
    "p_old_page = 1- p_new_page\n",
    "p_old_page"
   ]
  },
  {
   "cell_type": "markdown",
   "id": "7d02e5be",
   "metadata": {},
   "source": [
    "**Observations**\n",
    "\n",
    "- Based on the initial probability analysis, there is no statistically significant evidence that the new page leads to an increase in the conversion rate\n",
    "\n",
    "- There is no bias landing webpage probability, since each user has 50% probability of receiving either webpage\n"
   ]
  },
  {
   "cell_type": "markdown",
   "id": "3ec88757",
   "metadata": {},
   "source": [
    "---"
   ]
  },
  {
   "cell_type": "markdown",
   "id": "b8dcd055",
   "metadata": {},
   "source": [
    "## Part III: A/B Testing (Hypothesis Testing)"
   ]
  },
  {
   "cell_type": "markdown",
   "id": "0cac4e8a",
   "metadata": {},
   "source": [
    "**Defining null and alternative hypotheses**"
   ]
  },
  {
   "cell_type": "markdown",
   "id": "cd248fbf",
   "metadata": {},
   "source": [
    "**Hypothesis assumption:** Assuming that the old webpage is better unless the new webpage proves to be better with a significance level α (acceptable Type I error) of 5%"
   ]
  },
  {
   "cell_type": "markdown",
   "id": "f1d4674a",
   "metadata": {},
   "source": [
    ">**$H_0$  Null: $P_{old}$ >= $P_{new}$** "
   ]
  },
  {
   "cell_type": "markdown",
   "id": "6be094b3",
   "metadata": {},
   "source": [
    ">**$H_1$  Alternative : $P_{new}$ > $P_{old}$**"
   ]
  },
  {
   "cell_type": "markdown",
   "id": "6b8fa462",
   "metadata": {},
   "source": [
    "while **$p_{old}$** and **$p_{new}$** are the conversion probability (or rate) for the old and new pages respectively"
   ]
  },
  {
   "cell_type": "markdown",
   "id": "ecb399b8",
   "metadata": {},
   "source": [
    "#### Under the null hypothesis $H_0$, we assume that $p_{new}$ and $p_{old}$ are both equal to the converted success rate in the `df2` data regardless of the webpage:\n",
    "\n",
    ">$P_{new} = P_{old} = P_{population}$"
   ]
  },
  {
   "cell_type": "markdown",
   "id": "b6f6bbf7",
   "metadata": {},
   "source": [
    "**Approach for Null Hypothesis  $H_0$ testing:**\n",
    "\n",
    "- Simulating (bootstrapping) sample data set for both groups, and compute the conversion probability $p$ for those samples \n",
    "- Using a sample size for each group equal to the ones in the DataFrame \"df2\" data\n",
    "- Computing the difference in the conversion probability for the two samples above\n",
    "- Performing the sampling distribution for the \"difference in the convesrion probability\" between the two simulated-samples over 10,000 iterations; and calculating an estimate of the difference"
   ]
  },
  {
   "cell_type": "markdown",
   "id": "a75dc157",
   "metadata": {},
   "source": [
    "**The conversion rate for $p_{new}$ under the null hypothesis**"
   ]
  },
  {
   "cell_type": "code",
   "execution_count": 29,
   "id": "0d1eab3b",
   "metadata": {},
   "outputs": [
    {
     "data": {
      "text/plain": [
       "0.11959708724499628"
      ]
     },
     "execution_count": 29,
     "metadata": {},
     "output_type": "execute_result"
    }
   ],
   "source": [
    "p_new = p_converted\n",
    "p_new"
   ]
  },
  {
   "cell_type": "markdown",
   "id": "78b58ccd",
   "metadata": {},
   "source": [
    "**Conversion rate for $p_{old}$ under the null hypothesis**"
   ]
  },
  {
   "cell_type": "code",
   "execution_count": 30,
   "id": "86e461f0",
   "metadata": {},
   "outputs": [
    {
     "data": {
      "text/plain": [
       "0.11959708724499628"
      ]
     },
     "execution_count": 30,
     "metadata": {},
     "output_type": "execute_result"
    }
   ],
   "source": [
    "p_old = p_converted\n",
    "p_old"
   ]
  },
  {
   "cell_type": "markdown",
   "id": "05b0fb26",
   "metadata": {},
   "source": [
    "**Number of individuals in the treatment group $n_{new}$**"
   ]
  },
  {
   "cell_type": "code",
   "execution_count": 31,
   "id": "562489c1",
   "metadata": {},
   "outputs": [
    {
     "data": {
      "text/plain": [
       "145310"
      ]
     },
     "execution_count": 31,
     "metadata": {},
     "output_type": "execute_result"
    }
   ],
   "source": [
    "n_new= len(df2.query(\"landing_page == 'new_page'\"))\n",
    "n_new"
   ]
  },
  {
   "cell_type": "markdown",
   "id": "0a39d91e",
   "metadata": {},
   "source": [
    "**Number of individuals in the control group $n_{old}$**"
   ]
  },
  {
   "cell_type": "code",
   "execution_count": 32,
   "id": "dab66750",
   "metadata": {},
   "outputs": [
    {
     "data": {
      "text/plain": [
       "145274"
      ]
     },
     "execution_count": 32,
     "metadata": {},
     "output_type": "execute_result"
    }
   ],
   "source": [
    "n_old= len(df2.query(\"landing_page == 'old_page'\"))\n",
    "n_old"
   ]
  },
  {
   "cell_type": "markdown",
   "id": "2af7e353",
   "metadata": {},
   "source": [
    "**Simulating (Bootstrapping) Sample for the treatment Group** \n",
    "- Creating a NumPy array of 1's and 0's represnting \"new_page_converted\" or \"old_page_converted\" with ratios of $n_{new}$ and $n_{old}$ and calculating the conversion difference\n",
    "- Repeating the same process for 10,000 iterations\n",
    "- Storing all conversion difference values in a NumPy array \"p_diffs\""
   ]
  },
  {
   "cell_type": "code",
   "execution_count": 33,
   "id": "f43b1618",
   "metadata": {},
   "outputs": [],
   "source": [
    "# Sampling distribution \n",
    "p_diffs = []\n",
    "\n",
    "for i in range(10000):\n",
    "    sample_new_page = np.random.choice([1, 0], size=n_new, p=[p_new, 1-p_new], replace= True)\n",
    "    sample_old_page = np.random.choice([1, 0], size=n_old, p=[p_old, 1-p_old], replace= True)\n",
    "    p_diffs.append(sample_new_page.mean() - sample_old_page.mean())\n",
    "    \n",
    "p_diffs = np.array(p_diffs)"
   ]
  },
  {
   "cell_type": "markdown",
   "id": "f420e910",
   "metadata": {},
   "source": [
    "**Matching the differences *p_diffs* to the sampling distribution using the 95% confidence interval by displaying them in the histogram**"
   ]
  },
  {
   "cell_type": "code",
   "execution_count": 34,
   "id": "fbc6c4bf",
   "metadata": {},
   "outputs": [],
   "source": [
    "low, high = np.percentile(p_diffs, 2.5), np.percentile(p_diffs, 97.5)"
   ]
  },
  {
   "cell_type": "code",
   "execution_count": 47,
   "id": "bcbd3497",
   "metadata": {},
   "outputs": [
    {
     "data": {
      "image/png": "[encoded data removed]",
      "text/plain": [
       "<Figure size 700x500 with 1 Axes>"
      ]
     },
     "metadata": {},
     "output_type": "display_data"
    }
   ],
   "source": [
    "plt.figure(figsize=(7,5))\n",
    "plt.hist(p_diffs)\n",
    "plt.title('Sampling Distribution by 95% confidence interval', fontsize=15, fontweight=\"light\")\n",
    "plt.xlabel('Proportions of differences', fontsize=15)\n",
    "plt.ylabel('Frequency', fontsize=15)\n",
    "plt.axvline(x= low, color= 'r', linewidth= 2)\n",
    "plt.axvline(x= high, color= 'r', linewidth= 2)\n",
    "plt.axvline(x= 0, color= 'b', linewidth= 2);"
   ]
  },
  {
   "cell_type": "markdown",
   "id": "b294d147",
   "metadata": {},
   "source": [
    "**Onservation:** With a confidence interval of 95% and a significance level of only 5%, it is observed that the difference in observations lies between -0.002 and 0.002, a range close to zero, suggesting that the difference in observations is under the null hypothesis"
   ]
  },
  {
   "cell_type": "markdown",
   "id": "cc139286",
   "metadata": {},
   "source": [
    "**Simulating a distribution under the null hypothesis through a normal distribution**"
   ]
  },
  {
   "cell_type": "code",
   "execution_count": 44,
   "id": "d9926d2d",
   "metadata": {},
   "outputs": [
    {
     "data": {
      "image/png": "[encoded data removed]",
      "text/plain": [
       "<Figure size 700x500 with 1 Axes>"
      ]
     },
     "metadata": {},
     "output_type": "display_data"
    }
   ],
   "source": [
    "null_vals= np.random.normal(0, p_diffs.std(), p_diffs.size)\n",
    "\n",
    "plt.figure(figsize=(7, 5))\n",
    "plt.hist(null_vals, alpha=0.7, label='Null Distribution')\n",
    "plt.axvline(observed_diff, c=\"red\", label='Observed Difference')\n",
    "plt.title('Normal Distribution under the null hypothesis', fontsize=15, fontweight=\"light\")\n",
    "plt.xlabel('Proportions of differences', fontsize=15)\n",
    "plt.ylabel('Frequency', fontsize=15)\n",
    "plt.legend()\n",
    "\n",
    "plt.show()"
   ]
  },
  {
   "cell_type": "markdown",
   "id": "a8e93a7c",
   "metadata": {},
   "source": [
    "**Observation:** The observed statistic is located close to the null value, suggesting no statistical difference in the observations of both pages"
   ]
  },
  {
   "cell_type": "markdown",
   "id": "771d6138",
   "metadata": {},
   "source": [
    "**Calculating p-value**"
   ]
  },
  {
   "cell_type": "markdown",
   "id": "83e4c651",
   "metadata": {},
   "source": [
    "p-value can be calculated as the proportion of the p_diffs greater than the actual difference observed in the df2 data"
   ]
  },
  {
   "cell_type": "code",
   "execution_count": 37,
   "id": "0c9e2a3c",
   "metadata": {},
   "outputs": [
    {
     "data": {
      "text/plain": [
       "0.9061"
      ]
     },
     "execution_count": 37,
     "metadata": {},
     "output_type": "execute_result"
    }
   ],
   "source": [
    "p_val = (p_diffs > observed_diff).mean()\n",
    "p_val"
   ]
  },
  {
   "cell_type": "markdown",
   "id": "98cd8dc1",
   "metadata": {},
   "source": [
    "The calculated p-value is significantly higher than the significance level α (0.05). We therefore fail to reject the null hypothesis (𝐻0)"
   ]
  },
  {
   "cell_type": "markdown",
   "id": "43246dec",
   "metadata": {},
   "source": [
    "---"
   ]
  },
  {
   "cell_type": "markdown",
   "id": "75034286",
   "metadata": {},
   "source": [
    "## Results\n",
    "\n",
    "#### Probability Analysis:\n",
    "\n",
    "- The conversion rate of an individual regardless of the page they receive is 0.119\n",
    "- The conversion rate of an individual to the new page is 0.118\n",
    "- The conversion rate of an individual to the old page is 0.12\n",
    "- The rate receiving of an individual to the new page is 0.5016\n",
    "- The rate receiving of an individual to the old page is 0.498\n",
    "- The difference observed in the conversion rate between the two pages is -0.001\n",
    "\n",
    "\n",
    "\n",
    "#### A/B Hypothesis Testing:\n",
    "\n",
    "The calculated p-value is significantly higher than the significance level α (0.05). We therefore fail to reject the null hypothesis$(H_0)$, which on the other hand means that there is no difference in the observations of both webpages, and that the conversion rate of the new webpage is not greater than the conversion rate of the old webpage."
   ]
  },
  {
   "cell_type": "markdown",
   "id": "50129a7c",
   "metadata": {},
   "source": [
    "---"
   ]
  },
  {
   "cell_type": "markdown",
   "id": "38246651",
   "metadata": {},
   "source": [
    "## Conclusion"
   ]
  },
  {
   "cell_type": "markdown",
   "id": "d292a91e",
   "metadata": {},
   "source": [
    "The results from A/B test shows that the new page has no statistically significant effect on the conversion rate."
   ]
  },
  {
   "cell_type": "markdown",
   "id": "5f3e6775",
   "metadata": {},
   "source": [
    "---"
   ]
  }
 ],
 "metadata": {
  "kernelspec": {
   "display_name": "Python 3 (ipykernel)",
   "language": "python",
   "name": "python3"
  },
  "language_info": {
   "codemirror_mode": {
    "name": "ipython",
    "version": 3
   },
   "file_extension": ".py",
   "mimetype": "text/x-python",
   "name": "python",
   "nbconvert_exporter": "python",
   "pygments_lexer": "ipython3",
   "version": "3.10.6"
  }
 },
 "nbformat": 4,
 "nbformat_minor": 5
}
